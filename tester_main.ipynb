{
 "cells": [
  {
   "cell_type": "code",
   "execution_count": 1,
   "metadata": {},
   "outputs": [],
   "source": [
    "import flask\n",
    "from flask import Flask\n",
    "import gspread\n",
    "from oauth2client.service_account import ServiceAccountCredentials\n",
    "import datetime\n",
    "import time"
   ]
  },
  {
   "cell_type": "code",
   "execution_count": 2,
   "metadata": {},
   "outputs": [],
   "source": [
    "# Connect to Google Sheets\n",
    "scope = ['https://www.googleapis.com/auth/spreadsheets']\n",
    "\n",
    "credentials = ServiceAccountCredentials.from_json_keyfile_name(\"grlproject-credentials.json\", scope)\n",
    "client = gspread.authorize(credentials)"
   ]
  },
  {
   "cell_type": "markdown",
   "metadata": {},
   "source": [
    "# Mappings\n",
    "Status >> Status sheet \\\n",
    "rules >> sheet with rules \\\n",
    "logs_curr >> sheet with logs of curr_year \\\n",
    "to_do >> todo list (without points) sheet \\\n",
    "recurring_tasks >> recurring task list (with points)"
   ]
  },
  {
   "cell_type": "code",
   "execution_count": 3,
   "metadata": {},
   "outputs": [],
   "source": [
    "from collections import deque\n",
    "class GRL:\n",
    "    def __init__(self):\n",
    "        # initallizing some constants and sheets access in local variables\n",
    "        self.db_key = \"11glFKrtVXULhoUB5h4LgQOoJlt3ckuCaI4SRX_E-eng\"\n",
    "        self.db_wb = client.open_by_key(self.db_key)\n",
    "\n",
    "        curr_year = (datetime.date.today().year) % 100\n",
    "        self.sheets_name = {\"Status\" : \"Status\", \n",
    "                            \"logs\" : \"logs {}\".format(curr_year), \n",
    "                            \"rules\" : \"rules\",\n",
    "                            \"to_do\" : \"to do\",\n",
    "                            'recurring_tasks' : \"recurring\"}\n",
    "\n",
    "        self.sheets = dict([])\n",
    "        for key, name in self.sheets_name.items() : \n",
    "            self.sheets[key] = self.db_wb.worksheet(name)\n",
    "\n",
    "        # add_log is used to temporarily save logs before pushing them to sheets_db\n",
    "        self.add_log = []\n",
    "        \n",
    "        # deque to keep track of api limits\n",
    "        self.read_api_calls = deque()\n",
    "        self.write_api_calls = deque()\n",
    "        \n",
    "        self.variables = dict({})\n",
    "        \n",
    "        ########### initial status pull needs to decide if same pull_status or not #################\n",
    "        self.pull_status()\n",
    "        self.new_day()\n",
    "        \n",
    "    # keeps track of read calls of sheets api\n",
    "    def read_api(self) : \n",
    "        self.read_api_calls.append(time.time())\n",
    "        while len(self.read_api_calls) > 50 : \n",
    "            while (self.read_api_calls[0] + 1) < time.time() : self.read_api_calls.popleft()\n",
    "            print('read_limit')\n",
    "            time.sleep(2)\n",
    "\n",
    "    # keeps track of write calls of sheets api\n",
    "    def write_api(self) : \n",
    "        self.write_api_calls.append(time.time())\n",
    "        while len(self.write_api_calls) > 50 : \n",
    "            while (self.write_api_calls[0] + 1) < time.time() : self.write_api_calls.popleft()\n",
    "            print('write_limit')\n",
    "            time.sleep(2)\n",
    "\n",
    "\n",
    "    # stores info on score related updates\n",
    "    def add_score(self, updates, log) :\n",
    "        updates['Status'].append({'range' : 'A2', 'values' : [[int(log.split(';')[-1])]]})\n",
    "        \n",
    "    # stores info on dt_completed related updates\n",
    "    def add_dt_completed(self, updates, log, t, v) :\n",
    "        task_no = '$EFG'\n",
    "        updates['Status'].append({'range' : '{}2'.format(task_no[t]), 'values' : [[v]]})\n",
    "        \n",
    "    # stores info on 'last time of update' in updates\n",
    "    def add_time_update(self, updates) :\n",
    "        updates['Status'].append({'range' : 'I2', 'values' : [[datetime.datetime.strftime(datetime.date.today(), \"%Y%m%d\")]]})\n",
    "        \n",
    "        \n",
    "    # pushes all stored updates together so that api calls needed are less\n",
    "    def push_all_updates(self, updates) :\n",
    "        for sheet, update_list in updates.items() :\n",
    "            if len(update_list) == 0 : continue\n",
    "            self.sheets[sheet].batch_update(update_list)\n",
    "            self.write_api()\n",
    "    \n",
    "    \n",
    "    # handles failed attempts to write in sheets db\n",
    "    def repair_sheet(self) :\n",
    "        old_log_count = int(self.sheets['Status'].acell('H2').value)\n",
    "        new_log_count = int(self.sheets['logs'].acell('A1').value)\n",
    "        self.read_api()\n",
    "        self.read_api()\n",
    "        if old_log_count == new_log_count : return\n",
    "        \n",
    "        temp_add_log = self.sheets['logs'].get('A{}:A{}'.format(old_log_count + 2, new_log_count + 2))\n",
    "        self.read_api()\n",
    "        \n",
    "        updates = {key : [] for key in self.sheets.keys()}\n",
    "        for log in temp_add_log[0] :\n",
    "            operation = log.split(';')[0]\n",
    "            if operation == \"UPDATE SCORE\" :\n",
    "                self.add_score(updates, log)\n",
    "            elif operation == 'COMPLETED DT1' :\n",
    "                self.add_dt_completed(updates, log, 1, 1)\n",
    "            elif operation == 'COMPLETED DT2' : \n",
    "                self.add_dt_completed(updates, log, 2, 1)\n",
    "            elif operation == 'COMPLETED DT3' : \n",
    "                self.add_dt_completed(updates, log, 3, 1)\n",
    "            elif operation == 'UNDO DT1' :\n",
    "                self.add_dt_completed(updates, log, 1, 0)\n",
    "            elif operation == 'UNDO DT2' : \n",
    "                self.add_dt_completed(updates, log, 2, 0)\n",
    "            elif operation == 'UNDO DT3' : \n",
    "                self.add_dt_completed(updates, log, 3, 0)\n",
    "        \n",
    "        ############# is it needed here????? ##########\n",
    "        self.add_time_update(updates)    # updating last open date\n",
    "        \n",
    "        self.push_all_updates(updates)\n",
    "        \n",
    "        self.sheets['Status'].update('H2', new_log_count)     # updating final log count in status sheet\n",
    "        self.read_api()\n",
    "        \n",
    "    \n",
    "    # updates sheets db with current changes and logs\n",
    "    def push_status(self) :\n",
    "        \n",
    "        if len(self.add_log) == 0 : return       # if there's no log to push, return\n",
    "        \n",
    "        # reading position for next empty cell in logs and pushing logs in db and updating count of logs\n",
    "        cell_ptr = int(self.sheets['logs'].acell('A1').value) + 2\n",
    "        self.sheets['logs'].update('A{}:A{}'.format(cell_ptr, cell_ptr + len(self.add_log)), [[log] for log in self.add_log])\n",
    "        self.sheets['logs'].update('A1', cell_ptr + len(self.add_log) - 2)\n",
    "        \n",
    "        self.read_api()                     # tracking api calls\n",
    "        self.write_api()\n",
    "        self.write_api()\n",
    "        \n",
    "        updates = {key : [] for key in self.sheets.keys()}\n",
    "        \n",
    "        for log in self.add_log :\n",
    "            operation = log.split(';')[0]\n",
    "            if operation == \"UPDATE SCORE\" :\n",
    "                self.add_score(updates, log)\n",
    "            elif operation == 'COMPLETED DT1' :\n",
    "                self.add_dt_completed(updates, log, 1, 1)\n",
    "            elif operation == 'COMPLETED DT2' : \n",
    "                self.add_dt_completed(updates, log, 2, 1)\n",
    "            elif operation == 'COMPLETED DT3' : \n",
    "                self.add_dt_completed(updates, log, 3, 1)\n",
    "            elif operation == 'UNDO DT1' :\n",
    "                self.add_dt_completed(updates, log, 1, 0)\n",
    "            elif operation == 'UNDO DT2' : \n",
    "                self.add_dt_completed(updates, log, 2, 0)\n",
    "            elif operation == 'UNDO DT3' : \n",
    "                self.add_dt_completed(updates, log, 3, 0)\n",
    "        \n",
    "        \n",
    "        ############# is it needed here????? ##########\n",
    "        self.add_time_update(updates)    # updating last open date\n",
    "        \n",
    "        self.push_all_updates(updates)\n",
    "        \n",
    "        self.sheets['Status'].update('H2', cell_ptr + len(self.add_log) - 2)     # updating final log count in status sheet\n",
    "        self.read_api()\n",
    "        \n",
    "        self.add_log = []\n",
    "        self.pull_status()\n",
    "    \n",
    "    \n",
    "    # pulls status from db in as it is form in dictionary\n",
    "    # necessary changes are performed in accessing variable from '.' operator  \n",
    "    def pull_status(self) :\n",
    "        self.repair_sheet()\n",
    "        zipped_temp_sheet = zip(*self.sheets['Status'].get_values())\n",
    "        self.read_api()\n",
    "        \n",
    "        for key, value in zipped_temp_sheet :\n",
    "            self.variables[key] =  value \n",
    "        \n",
    "        self.variables['to_do'] = self.sheets['to_do'].get_values()\n",
    "        self.variables['recurring_tasks'] = player.sheets['recurring_tasks'].get_values()\n",
    "        ################### fetched 4 sheets till now need to see what is needed as per update functions ###############\n",
    "    \n",
    "    \n",
    "    ############# need to complete new_day feature #####################\n",
    "    # checks whether new day and performs daily tasks\n",
    "    def new_day(self) :\n",
    "        _today = datetime.datetime.strftime(datetime.date.today(), \"%Y%m%d\")\n",
    "        if self.variables['Last open'] == _today : return\n",
    "        \n",
    "        daily_charge = {'S' : 500, 'A' : 700, 'B' : 800, 'C' : 900, 'D' : 1000}\n",
    "        \n",
    "        self.add_log = ['NEW DAY;' + _today + ';DAILY CHARGE;']\n",
    "        old_score = self.score\n",
    "        new_score = self.score\n",
    "        new_score -= daily_charge[self.membership]\n",
    "#         self.add_log.append('RESET DT;')\n",
    "        self.add_log.append('UPDATE SCORE;' + str(old_score) + ';' + str(new_score))\n",
    "        self.push_status()\n",
    "    \n",
    "    @property\n",
    "    def score(self) :\n",
    "        return int(self.variables['Score'])\n",
    "    \n",
    "    @property\n",
    "    def membership(self) :\n",
    "        if self.score < 1e6 : return 'D'\n",
    "        elif self.score < 1e9 : return 'C'\n",
    "        elif self.score < 1e12 : return 'B'\n",
    "        elif self.score < 1e15 : return 'A'\n",
    "        else : return 'S'\n",
    "    \n",
    "    \n",
    "    \n",
    "    @property\n",
    "    def dt1(self) :    return self.variables['DT1']\n",
    "    \n",
    "    @property\n",
    "    def dt2(self) :    return self.variables['DT2']\n",
    "    \n",
    "    @property\n",
    "    def dt3(self) :    return self.variables['DT3']\n",
    "    \n",
    "    \n",
    "    \n",
    "    @property\n",
    "    def dt1_done(self) :    return int(self.variables['DT1_completed'])\n",
    "    \n",
    "    @dt1_done.setter\n",
    "    def dt1_done(self, value) :\n",
    "        if self.dt1_done == value : return                     # really needed ?? or needs to be modified ??\n",
    "        t_done = self.dt1_done + self.dt2_done + self.dt3_done\n",
    "        old_score = self.score\n",
    "        new_score = self.score\n",
    "        \n",
    "        if value == 1 : \n",
    "            self.add_log = [\"COMPLETED DT1;\" + self.dt1 + \";\"]\n",
    "            if t_done == 0 : new_score += 200\n",
    "            elif t_done == 1 : new_score += 300\n",
    "            else : new_score += 500\n",
    "        else :\n",
    "            self.add_log = [\"UNDO DT1;\" + self.dt1 + \";\"]\n",
    "            if t_done == 1 : new_score -= 200\n",
    "            elif t_done == 2 : new_score -= 300\n",
    "            else : new_score -= 500\n",
    "        \n",
    "        self.add_log.append('UPDATE SCORE;' + str(old_score) + ';' + str(new_score))\n",
    "        self.push_status()\n",
    "         \n",
    "    @property\n",
    "    def dt2_done(self) :    return int(self.variables['DT2_completed'])\n",
    "    \n",
    "    @dt2_done.setter\n",
    "    def dt2_done(self, value) :\n",
    "        if self.dt2_done == value : return                     # really needed ?? or needs to be modified ??\n",
    "        t_done = self.dt1_done + self.dt2_done + self.dt3_done\n",
    "        old_score = self.score\n",
    "        new_score = self.score\n",
    "        \n",
    "        if value == 1 : \n",
    "            self.add_log = [\"COMPLETED DT2;\" + self.dt2 + \";\"]\n",
    "            if t_done == 0 : new_score += 200\n",
    "            elif t_done == 1 : new_score += 300\n",
    "            else : new_score += 500\n",
    "        else :\n",
    "            self.add_log = [\"UNDO DT2;\" + self.dt2 + \";\"]\n",
    "            if t_done == 1 : new_score -= 200\n",
    "            elif t_done == 2 : new_score -= 300\n",
    "            else : new_score -= 500\n",
    "        \n",
    "        self.add_log.append('UPDATE SCORE;' + str(old_score) + ';' + str(new_score))\n",
    "        self.push_status()\n",
    "    \n",
    "    @property\n",
    "    def dt3_done(self) :    return int(self.variables['DT3_completed'])\n",
    "    \n",
    "    @dt3_done.setter\n",
    "    def dt3_done(self, value) :\n",
    "        if self.dt3_done == value : return                     # really needed ?? or needs to be modified ??\n",
    "        t_done = self.dt1_done + self.dt2_done + self.dt3_done\n",
    "        old_score = self.score\n",
    "        new_score = self.score\n",
    "        \n",
    "        if value == 1 : \n",
    "            self.add_log = [\"COMPLETED DT3;\" + self.dt3 + \";\"]\n",
    "            if t_done == 0 : new_score += 200\n",
    "            elif t_done == 1 : new_score += 300\n",
    "            else : new_score += 500\n",
    "        else :\n",
    "            self.add_log = [\"UNDO DT3;\" + self.dt3 + \";\"]\n",
    "            if t_done == 1 : new_score -= 200\n",
    "            elif t_done == 2 : new_score -= 300\n",
    "            else : new_score -= 500\n",
    "        \n",
    "        self.add_log.append('UPDATE SCORE;' + str(old_score) + ';' + str(new_score))\n",
    "        self.push_status()\n",
    "    \n",
    "    def get_to_do_list(self) :\n",
    "        return [task for task, done in dict(self.variables['to_do']).items() if done == '-1']\n",
    "    \n",
    "    def get_recurring_tasks(self) :\n",
    "        return {task : val for task, *val in self.variables['recurring_tasks']}"
   ]
  },
  {
   "cell_type": "code",
   "execution_count": 4,
   "metadata": {
    "scrolled": true
   },
   "outputs": [
    {
     "ename": "RefreshError",
     "evalue": "('invalid_grant: Invalid JWT Signature.', {'error': 'invalid_grant', 'error_description': 'Invalid JWT Signature.'})",
     "output_type": "error",
     "traceback": [
      "\u001b[1;31m---------------------------------------------------------------------------\u001b[0m",
      "\u001b[1;31mRefreshError\u001b[0m                              Traceback (most recent call last)",
      "Cell \u001b[1;32mIn [4], line 1\u001b[0m\n\u001b[1;32m----> 1\u001b[0m player \u001b[38;5;241m=\u001b[39m \u001b[43mGRL\u001b[49m\u001b[43m(\u001b[49m\u001b[43m)\u001b[49m\n",
      "Cell \u001b[1;32mIn [3], line 6\u001b[0m, in \u001b[0;36mGRL.__init__\u001b[1;34m(self)\u001b[0m\n\u001b[0;32m      3\u001b[0m \u001b[38;5;28;01mdef\u001b[39;00m \u001b[38;5;21m__init__\u001b[39m(\u001b[38;5;28mself\u001b[39m):\n\u001b[0;32m      4\u001b[0m     \u001b[38;5;66;03m# initallizing some constants and sheets access in local variables\u001b[39;00m\n\u001b[0;32m      5\u001b[0m     \u001b[38;5;28mself\u001b[39m\u001b[38;5;241m.\u001b[39mdb_key \u001b[38;5;241m=\u001b[39m \u001b[38;5;124m\"\u001b[39m\u001b[38;5;124m11glFKrtVXULhoUB5h4LgQOoJlt3ckuCaI4SRX_E-eng\u001b[39m\u001b[38;5;124m\"\u001b[39m\n\u001b[1;32m----> 6\u001b[0m     \u001b[38;5;28mself\u001b[39m\u001b[38;5;241m.\u001b[39mdb_wb \u001b[38;5;241m=\u001b[39m \u001b[43mclient\u001b[49m\u001b[38;5;241;43m.\u001b[39;49m\u001b[43mopen_by_key\u001b[49m\u001b[43m(\u001b[49m\u001b[38;5;28;43mself\u001b[39;49m\u001b[38;5;241;43m.\u001b[39;49m\u001b[43mdb_key\u001b[49m\u001b[43m)\u001b[49m\n\u001b[0;32m      8\u001b[0m     curr_year \u001b[38;5;241m=\u001b[39m (datetime\u001b[38;5;241m.\u001b[39mdate\u001b[38;5;241m.\u001b[39mtoday()\u001b[38;5;241m.\u001b[39myear) \u001b[38;5;241m%\u001b[39m \u001b[38;5;241m100\u001b[39m\n\u001b[0;32m      9\u001b[0m     \u001b[38;5;28mself\u001b[39m\u001b[38;5;241m.\u001b[39msheets_name \u001b[38;5;241m=\u001b[39m {\u001b[38;5;124m\"\u001b[39m\u001b[38;5;124mStatus\u001b[39m\u001b[38;5;124m\"\u001b[39m : \u001b[38;5;124m\"\u001b[39m\u001b[38;5;124mStatus\u001b[39m\u001b[38;5;124m\"\u001b[39m, \n\u001b[0;32m     10\u001b[0m                         \u001b[38;5;124m\"\u001b[39m\u001b[38;5;124mlogs\u001b[39m\u001b[38;5;124m\"\u001b[39m : \u001b[38;5;124m\"\u001b[39m\u001b[38;5;124mlogs \u001b[39m\u001b[38;5;132;01m{}\u001b[39;00m\u001b[38;5;124m\"\u001b[39m\u001b[38;5;241m.\u001b[39mformat(curr_year), \n\u001b[0;32m     11\u001b[0m                         \u001b[38;5;124m\"\u001b[39m\u001b[38;5;124mrules\u001b[39m\u001b[38;5;124m\"\u001b[39m : \u001b[38;5;124m\"\u001b[39m\u001b[38;5;124mrules\u001b[39m\u001b[38;5;124m\"\u001b[39m,\n\u001b[0;32m     12\u001b[0m                         \u001b[38;5;124m\"\u001b[39m\u001b[38;5;124mto_do\u001b[39m\u001b[38;5;124m\"\u001b[39m : \u001b[38;5;124m\"\u001b[39m\u001b[38;5;124mto do\u001b[39m\u001b[38;5;124m\"\u001b[39m,\n\u001b[0;32m     13\u001b[0m                         \u001b[38;5;124m'\u001b[39m\u001b[38;5;124mrecurring_tasks\u001b[39m\u001b[38;5;124m'\u001b[39m : \u001b[38;5;124m\"\u001b[39m\u001b[38;5;124mrecurring\u001b[39m\u001b[38;5;124m\"\u001b[39m}\n",
      "File \u001b[1;32mD:\\anaconda_envs\\GRL\\lib\\site-packages\\gspread\\client.py:170\u001b[0m, in \u001b[0;36mClient.open_by_key\u001b[1;34m(self, key)\u001b[0m\n\u001b[0;32m    162\u001b[0m \u001b[38;5;28;01mdef\u001b[39;00m \u001b[38;5;21mopen_by_key\u001b[39m(\u001b[38;5;28mself\u001b[39m, key):\n\u001b[0;32m    163\u001b[0m     \u001b[38;5;124;03m\"\"\"Opens a spreadsheet specified by `key` (a.k.a Spreadsheet ID).\u001b[39;00m\n\u001b[0;32m    164\u001b[0m \n\u001b[0;32m    165\u001b[0m \u001b[38;5;124;03m    :param str key: A key of a spreadsheet as it appears in a URL in a browser.\u001b[39;00m\n\u001b[1;32m   (...)\u001b[0m\n\u001b[0;32m    168\u001b[0m \u001b[38;5;124;03m    >>> gc.open_by_key('0BmgG6nO_6dprdS1MN3d3MkdPa142WFRrdnRRUWl1UFE')\u001b[39;00m\n\u001b[0;32m    169\u001b[0m \u001b[38;5;124;03m    \"\"\"\u001b[39;00m\n\u001b[1;32m--> 170\u001b[0m     \u001b[38;5;28;01mreturn\u001b[39;00m \u001b[43mSpreadsheet\u001b[49m\u001b[43m(\u001b[49m\u001b[38;5;28;43mself\u001b[39;49m\u001b[43m,\u001b[49m\u001b[43m \u001b[49m\u001b[43m{\u001b[49m\u001b[38;5;124;43m\"\u001b[39;49m\u001b[38;5;124;43mid\u001b[39;49m\u001b[38;5;124;43m\"\u001b[39;49m\u001b[43m:\u001b[49m\u001b[43m \u001b[49m\u001b[43mkey\u001b[49m\u001b[43m}\u001b[49m\u001b[43m)\u001b[49m\n",
      "File \u001b[1;32mD:\\anaconda_envs\\GRL\\lib\\site-packages\\gspread\\spreadsheet.py:34\u001b[0m, in \u001b[0;36mSpreadsheet.__init__\u001b[1;34m(self, client, properties)\u001b[0m\n\u001b[0;32m     31\u001b[0m \u001b[38;5;28mself\u001b[39m\u001b[38;5;241m.\u001b[39mclient \u001b[38;5;241m=\u001b[39m client\n\u001b[0;32m     32\u001b[0m \u001b[38;5;28mself\u001b[39m\u001b[38;5;241m.\u001b[39m_properties \u001b[38;5;241m=\u001b[39m properties\n\u001b[1;32m---> 34\u001b[0m metadata \u001b[38;5;241m=\u001b[39m \u001b[38;5;28;43mself\u001b[39;49m\u001b[38;5;241;43m.\u001b[39;49m\u001b[43mfetch_sheet_metadata\u001b[49m\u001b[43m(\u001b[49m\u001b[43m)\u001b[49m\n\u001b[0;32m     35\u001b[0m \u001b[38;5;28mself\u001b[39m\u001b[38;5;241m.\u001b[39m_properties\u001b[38;5;241m.\u001b[39mupdate(metadata[\u001b[38;5;124m\"\u001b[39m\u001b[38;5;124mproperties\u001b[39m\u001b[38;5;124m\"\u001b[39m])\n",
      "File \u001b[1;32mD:\\anaconda_envs\\GRL\\lib\\site-packages\\gspread\\spreadsheet.py:254\u001b[0m, in \u001b[0;36mSpreadsheet.fetch_sheet_metadata\u001b[1;34m(self, params)\u001b[0m\n\u001b[0;32m    250\u001b[0m     params \u001b[38;5;241m=\u001b[39m {\u001b[38;5;124m\"\u001b[39m\u001b[38;5;124mincludeGridData\u001b[39m\u001b[38;5;124m\"\u001b[39m: \u001b[38;5;124m\"\u001b[39m\u001b[38;5;124mfalse\u001b[39m\u001b[38;5;124m\"\u001b[39m}\n\u001b[0;32m    252\u001b[0m url \u001b[38;5;241m=\u001b[39m SPREADSHEET_URL \u001b[38;5;241m%\u001b[39m \u001b[38;5;28mself\u001b[39m\u001b[38;5;241m.\u001b[39mid\n\u001b[1;32m--> 254\u001b[0m r \u001b[38;5;241m=\u001b[39m \u001b[38;5;28;43mself\u001b[39;49m\u001b[38;5;241;43m.\u001b[39;49m\u001b[43mclient\u001b[49m\u001b[38;5;241;43m.\u001b[39;49m\u001b[43mrequest\u001b[49m\u001b[43m(\u001b[49m\u001b[38;5;124;43m\"\u001b[39;49m\u001b[38;5;124;43mget\u001b[39;49m\u001b[38;5;124;43m\"\u001b[39;49m\u001b[43m,\u001b[49m\u001b[43m \u001b[49m\u001b[43murl\u001b[49m\u001b[43m,\u001b[49m\u001b[43m \u001b[49m\u001b[43mparams\u001b[49m\u001b[38;5;241;43m=\u001b[39;49m\u001b[43mparams\u001b[49m\u001b[43m)\u001b[49m\n\u001b[0;32m    256\u001b[0m \u001b[38;5;28;01mreturn\u001b[39;00m r\u001b[38;5;241m.\u001b[39mjson()\n",
      "File \u001b[1;32mD:\\anaconda_envs\\GRL\\lib\\site-packages\\gspread\\client.py:79\u001b[0m, in \u001b[0;36mClient.request\u001b[1;34m(self, method, endpoint, params, data, json, files, headers)\u001b[0m\n\u001b[0;32m     69\u001b[0m \u001b[38;5;28;01mdef\u001b[39;00m \u001b[38;5;21mrequest\u001b[39m(\n\u001b[0;32m     70\u001b[0m     \u001b[38;5;28mself\u001b[39m,\n\u001b[0;32m     71\u001b[0m     method,\n\u001b[1;32m   (...)\u001b[0m\n\u001b[0;32m     77\u001b[0m     headers\u001b[38;5;241m=\u001b[39m\u001b[38;5;28;01mNone\u001b[39;00m,\n\u001b[0;32m     78\u001b[0m ):\n\u001b[1;32m---> 79\u001b[0m     response \u001b[38;5;241m=\u001b[39m \u001b[38;5;28;43mgetattr\u001b[39;49m\u001b[43m(\u001b[49m\u001b[38;5;28;43mself\u001b[39;49m\u001b[38;5;241;43m.\u001b[39;49m\u001b[43msession\u001b[49m\u001b[43m,\u001b[49m\u001b[43m \u001b[49m\u001b[43mmethod\u001b[49m\u001b[43m)\u001b[49m\u001b[43m(\u001b[49m\n\u001b[0;32m     80\u001b[0m \u001b[43m        \u001b[49m\u001b[43mendpoint\u001b[49m\u001b[43m,\u001b[49m\n\u001b[0;32m     81\u001b[0m \u001b[43m        \u001b[49m\u001b[43mjson\u001b[49m\u001b[38;5;241;43m=\u001b[39;49m\u001b[43mjson\u001b[49m\u001b[43m,\u001b[49m\n\u001b[0;32m     82\u001b[0m \u001b[43m        \u001b[49m\u001b[43mparams\u001b[49m\u001b[38;5;241;43m=\u001b[39;49m\u001b[43mparams\u001b[49m\u001b[43m,\u001b[49m\n\u001b[0;32m     83\u001b[0m \u001b[43m        \u001b[49m\u001b[43mdata\u001b[49m\u001b[38;5;241;43m=\u001b[39;49m\u001b[43mdata\u001b[49m\u001b[43m,\u001b[49m\n\u001b[0;32m     84\u001b[0m \u001b[43m        \u001b[49m\u001b[43mfiles\u001b[49m\u001b[38;5;241;43m=\u001b[39;49m\u001b[43mfiles\u001b[49m\u001b[43m,\u001b[49m\n\u001b[0;32m     85\u001b[0m \u001b[43m        \u001b[49m\u001b[43mheaders\u001b[49m\u001b[38;5;241;43m=\u001b[39;49m\u001b[43mheaders\u001b[49m\u001b[43m,\u001b[49m\n\u001b[0;32m     86\u001b[0m \u001b[43m        \u001b[49m\u001b[43mtimeout\u001b[49m\u001b[38;5;241;43m=\u001b[39;49m\u001b[38;5;28;43mself\u001b[39;49m\u001b[38;5;241;43m.\u001b[39;49m\u001b[43mtimeout\u001b[49m\u001b[43m,\u001b[49m\n\u001b[0;32m     87\u001b[0m \u001b[43m    \u001b[49m\u001b[43m)\u001b[49m\n\u001b[0;32m     89\u001b[0m     \u001b[38;5;28;01mif\u001b[39;00m response\u001b[38;5;241m.\u001b[39mok:\n\u001b[0;32m     90\u001b[0m         \u001b[38;5;28;01mreturn\u001b[39;00m response\n",
      "File \u001b[1;32mD:\\anaconda_envs\\GRL\\lib\\site-packages\\requests\\sessions.py:600\u001b[0m, in \u001b[0;36mSession.get\u001b[1;34m(self, url, **kwargs)\u001b[0m\n\u001b[0;32m    592\u001b[0m \u001b[38;5;124mr\u001b[39m\u001b[38;5;124;03m\"\"\"Sends a GET request. Returns :class:`Response` object.\u001b[39;00m\n\u001b[0;32m    593\u001b[0m \n\u001b[0;32m    594\u001b[0m \u001b[38;5;124;03m:param url: URL for the new :class:`Request` object.\u001b[39;00m\n\u001b[0;32m    595\u001b[0m \u001b[38;5;124;03m:param \\*\\*kwargs: Optional arguments that ``request`` takes.\u001b[39;00m\n\u001b[0;32m    596\u001b[0m \u001b[38;5;124;03m:rtype: requests.Response\u001b[39;00m\n\u001b[0;32m    597\u001b[0m \u001b[38;5;124;03m\"\"\"\u001b[39;00m\n\u001b[0;32m    599\u001b[0m kwargs\u001b[38;5;241m.\u001b[39msetdefault(\u001b[38;5;124m\"\u001b[39m\u001b[38;5;124mallow_redirects\u001b[39m\u001b[38;5;124m\"\u001b[39m, \u001b[38;5;28;01mTrue\u001b[39;00m)\n\u001b[1;32m--> 600\u001b[0m \u001b[38;5;28;01mreturn\u001b[39;00m \u001b[38;5;28mself\u001b[39m\u001b[38;5;241m.\u001b[39mrequest(\u001b[38;5;124m\"\u001b[39m\u001b[38;5;124mGET\u001b[39m\u001b[38;5;124m\"\u001b[39m, url, \u001b[38;5;241m*\u001b[39m\u001b[38;5;241m*\u001b[39mkwargs)\n",
      "File \u001b[1;32mD:\\anaconda_envs\\GRL\\lib\\site-packages\\google\\auth\\transport\\requests.py:545\u001b[0m, in \u001b[0;36mAuthorizedSession.request\u001b[1;34m(self, method, url, data, headers, max_allowed_time, timeout, **kwargs)\u001b[0m\n\u001b[0;32m    542\u001b[0m remaining_time \u001b[38;5;241m=\u001b[39m max_allowed_time\n\u001b[0;32m    544\u001b[0m \u001b[38;5;28;01mwith\u001b[39;00m TimeoutGuard(remaining_time) \u001b[38;5;28;01mas\u001b[39;00m guard:\n\u001b[1;32m--> 545\u001b[0m     \u001b[38;5;28;43mself\u001b[39;49m\u001b[38;5;241;43m.\u001b[39;49m\u001b[43mcredentials\u001b[49m\u001b[38;5;241;43m.\u001b[39;49m\u001b[43mbefore_request\u001b[49m\u001b[43m(\u001b[49m\u001b[43mauth_request\u001b[49m\u001b[43m,\u001b[49m\u001b[43m \u001b[49m\u001b[43mmethod\u001b[49m\u001b[43m,\u001b[49m\u001b[43m \u001b[49m\u001b[43murl\u001b[49m\u001b[43m,\u001b[49m\u001b[43m \u001b[49m\u001b[43mrequest_headers\u001b[49m\u001b[43m)\u001b[49m\n\u001b[0;32m    546\u001b[0m remaining_time \u001b[38;5;241m=\u001b[39m guard\u001b[38;5;241m.\u001b[39mremaining_timeout\n\u001b[0;32m    548\u001b[0m \u001b[38;5;28;01mwith\u001b[39;00m TimeoutGuard(remaining_time) \u001b[38;5;28;01mas\u001b[39;00m guard:\n",
      "File \u001b[1;32mD:\\anaconda_envs\\GRL\\lib\\site-packages\\google\\auth\\credentials.py:134\u001b[0m, in \u001b[0;36mCredentials.before_request\u001b[1;34m(self, request, method, url, headers)\u001b[0m\n\u001b[0;32m    130\u001b[0m \u001b[38;5;66;03m# pylint: disable=unused-argument\u001b[39;00m\n\u001b[0;32m    131\u001b[0m \u001b[38;5;66;03m# (Subclasses may use these arguments to ascertain information about\u001b[39;00m\n\u001b[0;32m    132\u001b[0m \u001b[38;5;66;03m# the http request.)\u001b[39;00m\n\u001b[0;32m    133\u001b[0m \u001b[38;5;28;01mif\u001b[39;00m \u001b[38;5;129;01mnot\u001b[39;00m \u001b[38;5;28mself\u001b[39m\u001b[38;5;241m.\u001b[39mvalid:\n\u001b[1;32m--> 134\u001b[0m     \u001b[38;5;28;43mself\u001b[39;49m\u001b[38;5;241;43m.\u001b[39;49m\u001b[43mrefresh\u001b[49m\u001b[43m(\u001b[49m\u001b[43mrequest\u001b[49m\u001b[43m)\u001b[49m\n\u001b[0;32m    135\u001b[0m \u001b[38;5;28mself\u001b[39m\u001b[38;5;241m.\u001b[39mapply(headers)\n",
      "File \u001b[1;32mD:\\anaconda_envs\\GRL\\lib\\site-packages\\google\\oauth2\\service_account.py:429\u001b[0m, in \u001b[0;36mCredentials.refresh\u001b[1;34m(self, request)\u001b[0m\n\u001b[0;32m    427\u001b[0m \u001b[38;5;28;01melse\u001b[39;00m:\n\u001b[0;32m    428\u001b[0m     assertion \u001b[38;5;241m=\u001b[39m \u001b[38;5;28mself\u001b[39m\u001b[38;5;241m.\u001b[39m_make_authorization_grant_assertion()\n\u001b[1;32m--> 429\u001b[0m     access_token, expiry, _ \u001b[38;5;241m=\u001b[39m \u001b[43m_client\u001b[49m\u001b[38;5;241;43m.\u001b[39;49m\u001b[43mjwt_grant\u001b[49m\u001b[43m(\u001b[49m\n\u001b[0;32m    430\u001b[0m \u001b[43m        \u001b[49m\u001b[43mrequest\u001b[49m\u001b[43m,\u001b[49m\u001b[43m \u001b[49m\u001b[38;5;28;43mself\u001b[39;49m\u001b[38;5;241;43m.\u001b[39;49m\u001b[43m_token_uri\u001b[49m\u001b[43m,\u001b[49m\u001b[43m \u001b[49m\u001b[43massertion\u001b[49m\n\u001b[0;32m    431\u001b[0m \u001b[43m    \u001b[49m\u001b[43m)\u001b[49m\n\u001b[0;32m    432\u001b[0m     \u001b[38;5;28mself\u001b[39m\u001b[38;5;241m.\u001b[39mtoken \u001b[38;5;241m=\u001b[39m access_token\n\u001b[0;32m    433\u001b[0m     \u001b[38;5;28mself\u001b[39m\u001b[38;5;241m.\u001b[39mexpiry \u001b[38;5;241m=\u001b[39m expiry\n",
      "File \u001b[1;32mD:\\anaconda_envs\\GRL\\lib\\site-packages\\google\\oauth2\\_client.py:289\u001b[0m, in \u001b[0;36mjwt_grant\u001b[1;34m(request, token_uri, assertion, can_retry)\u001b[0m\n\u001b[0;32m    265\u001b[0m \u001b[38;5;124;03m\"\"\"Implements the JWT Profile for OAuth 2.0 Authorization Grants.\u001b[39;00m\n\u001b[0;32m    266\u001b[0m \n\u001b[0;32m    267\u001b[0m \u001b[38;5;124;03mFor more details, see `rfc7523 section 4`_.\u001b[39;00m\n\u001b[1;32m   (...)\u001b[0m\n\u001b[0;32m    285\u001b[0m \u001b[38;5;124;03m.. _rfc7523 section 4: https://tools.ietf.org/html/rfc7523#section-4\u001b[39;00m\n\u001b[0;32m    286\u001b[0m \u001b[38;5;124;03m\"\"\"\u001b[39;00m\n\u001b[0;32m    287\u001b[0m body \u001b[38;5;241m=\u001b[39m {\u001b[38;5;124m\"\u001b[39m\u001b[38;5;124massertion\u001b[39m\u001b[38;5;124m\"\u001b[39m: assertion, \u001b[38;5;124m\"\u001b[39m\u001b[38;5;124mgrant_type\u001b[39m\u001b[38;5;124m\"\u001b[39m: _JWT_GRANT_TYPE}\n\u001b[1;32m--> 289\u001b[0m response_data \u001b[38;5;241m=\u001b[39m \u001b[43m_token_endpoint_request\u001b[49m\u001b[43m(\u001b[49m\n\u001b[0;32m    290\u001b[0m \u001b[43m    \u001b[49m\u001b[43mrequest\u001b[49m\u001b[43m,\u001b[49m\u001b[43m \u001b[49m\u001b[43mtoken_uri\u001b[49m\u001b[43m,\u001b[49m\u001b[43m \u001b[49m\u001b[43mbody\u001b[49m\u001b[43m,\u001b[49m\u001b[43m \u001b[49m\u001b[43mcan_retry\u001b[49m\u001b[38;5;241;43m=\u001b[39;49m\u001b[43mcan_retry\u001b[49m\n\u001b[0;32m    291\u001b[0m \u001b[43m\u001b[49m\u001b[43m)\u001b[49m\n\u001b[0;32m    293\u001b[0m \u001b[38;5;28;01mtry\u001b[39;00m:\n\u001b[0;32m    294\u001b[0m     access_token \u001b[38;5;241m=\u001b[39m response_data[\u001b[38;5;124m\"\u001b[39m\u001b[38;5;124maccess_token\u001b[39m\u001b[38;5;124m\"\u001b[39m]\n",
      "File \u001b[1;32mD:\\anaconda_envs\\GRL\\lib\\site-packages\\google\\oauth2\\_client.py:260\u001b[0m, in \u001b[0;36m_token_endpoint_request\u001b[1;34m(request, token_uri, body, access_token, use_json, can_retry, **kwargs)\u001b[0m\n\u001b[0;32m    250\u001b[0m response_status_ok, response_data, retryable_error \u001b[38;5;241m=\u001b[39m _token_endpoint_request_no_throw(\n\u001b[0;32m    251\u001b[0m     request,\n\u001b[0;32m    252\u001b[0m     token_uri,\n\u001b[1;32m   (...)\u001b[0m\n\u001b[0;32m    257\u001b[0m     \u001b[38;5;241m*\u001b[39m\u001b[38;5;241m*\u001b[39mkwargs\n\u001b[0;32m    258\u001b[0m )\n\u001b[0;32m    259\u001b[0m \u001b[38;5;28;01mif\u001b[39;00m \u001b[38;5;129;01mnot\u001b[39;00m response_status_ok:\n\u001b[1;32m--> 260\u001b[0m     \u001b[43m_handle_error_response\u001b[49m\u001b[43m(\u001b[49m\u001b[43mresponse_data\u001b[49m\u001b[43m,\u001b[49m\u001b[43m \u001b[49m\u001b[43mretryable_error\u001b[49m\u001b[43m)\u001b[49m\n\u001b[0;32m    261\u001b[0m \u001b[38;5;28;01mreturn\u001b[39;00m response_data\n",
      "File \u001b[1;32mD:\\anaconda_envs\\GRL\\lib\\site-packages\\google\\oauth2\\_client.py:69\u001b[0m, in \u001b[0;36m_handle_error_response\u001b[1;34m(response_data, retryable_error)\u001b[0m\n\u001b[0;32m     66\u001b[0m \u001b[38;5;28;01mexcept\u001b[39;00m (\u001b[38;5;167;01mKeyError\u001b[39;00m, \u001b[38;5;167;01mValueError\u001b[39;00m):\n\u001b[0;32m     67\u001b[0m     error_details \u001b[38;5;241m=\u001b[39m json\u001b[38;5;241m.\u001b[39mdumps(response_data)\n\u001b[1;32m---> 69\u001b[0m \u001b[38;5;28;01mraise\u001b[39;00m exceptions\u001b[38;5;241m.\u001b[39mRefreshError(\n\u001b[0;32m     70\u001b[0m     error_details, response_data, retryable\u001b[38;5;241m=\u001b[39mretryable_error\n\u001b[0;32m     71\u001b[0m )\n",
      "\u001b[1;31mRefreshError\u001b[0m: ('invalid_grant: Invalid JWT Signature.', {'error': 'invalid_grant', 'error_description': 'Invalid JWT Signature.'})"
     ]
    }
   ],
   "source": [
    "player = GRL() "
   ]
  },
  {
   "cell_type": "code",
   "execution_count": 70,
   "metadata": {},
   "outputs": [
    {
     "name": "stdout",
     "output_type": "stream",
     "text": [
      " * Serving Flask app '__main__' (lazy loading)\n",
      " * Environment: production\n",
      "\u001b[31m   WARNING: This is a development server. Do not use it in a production deployment.\u001b[0m\n",
      "\u001b[2m   Use a production WSGI server instead.\u001b[0m\n",
      " * Debug mode: off\n"
     ]
    },
    {
     "name": "stderr",
     "output_type": "stream",
     "text": [
      " * Running on http://127.0.0.1:5000/ (Press CTRL+C to quit)\n",
      "127.0.0.1 - - [26/Dec/2022 21:15:15] \"GET / HTTP/1.1\" 200 -\n"
     ]
    },
    {
     "name": "stdout",
     "output_type": "stream",
     "text": [
      "ImmutableMultiDict([])\n",
      "ImmutableMultiDict([('DT_B1', '')])\n"
     ]
    },
    {
     "name": "stderr",
     "output_type": "stream",
     "text": [
      "127.0.0.1 - - [26/Dec/2022 21:15:33] \"POST / HTTP/1.1\" 302 -\n",
      "127.0.0.1 - - [26/Dec/2022 21:15:33] \"GET / HTTP/1.1\" 200 -\n"
     ]
    },
    {
     "name": "stdout",
     "output_type": "stream",
     "text": [
      "ImmutableMultiDict([])\n",
      "ImmutableMultiDict([('DT_B3', '')])\n"
     ]
    },
    {
     "name": "stderr",
     "output_type": "stream",
     "text": [
      "127.0.0.1 - - [26/Dec/2022 21:15:41] \"POST / HTTP/1.1\" 302 -\n",
      "127.0.0.1 - - [26/Dec/2022 21:15:41] \"GET / HTTP/1.1\" 200 -\n"
     ]
    },
    {
     "name": "stdout",
     "output_type": "stream",
     "text": [
      "ImmutableMultiDict([])\n",
      "ImmutableMultiDict([('DT_B1', '')])\n"
     ]
    },
    {
     "name": "stderr",
     "output_type": "stream",
     "text": [
      "127.0.0.1 - - [26/Dec/2022 21:15:47] \"POST / HTTP/1.1\" 302 -\n",
      "127.0.0.1 - - [26/Dec/2022 21:15:47] \"GET / HTTP/1.1\" 200 -\n"
     ]
    },
    {
     "name": "stdout",
     "output_type": "stream",
     "text": [
      "ImmutableMultiDict([])\n",
      "ImmutableMultiDict([('DT_B3', '')])\n"
     ]
    },
    {
     "name": "stderr",
     "output_type": "stream",
     "text": [
      "127.0.0.1 - - [26/Dec/2022 21:15:54] \"POST / HTTP/1.1\" 302 -\n",
      "127.0.0.1 - - [26/Dec/2022 21:15:54] \"GET / HTTP/1.1\" 200 -\n"
     ]
    },
    {
     "name": "stdout",
     "output_type": "stream",
     "text": [
      "ImmutableMultiDict([])\n"
     ]
    }
   ],
   "source": [
    "app = Flask(__name__)\n",
    "\n",
    "@app.route('/', methods=['POST', 'GET'])\n",
    "def home():\n",
    "    \n",
    "    if flask.request.method == 'POST' :\n",
    "        if 'DT_B1' in flask.request.form : player.dt1_done = 1 - player.dt1_done\n",
    "        if 'DT_B2' in flask.request.form : player.dt2_done = 1 - player.dt2_done\n",
    "        if 'DT_B3' in flask.request.form : player.dt3_done = 1 - player.dt3_done\n",
    "        return flask.redirect(flask.url_for('home'))\n",
    "\n",
    "    variables = {'score' : player.score,\n",
    "                 'membership' : player.membership,\n",
    "                 'DT1' : player.dt1,\n",
    "                 'DT2' : player.dt2,\n",
    "                 'DT3' : player.dt3,\n",
    "                 'DT1_done' : player.dt1_done,\n",
    "                 'DT2_done' : player.dt2_done,\n",
    "                 'DT3_done' : player.dt3_done,\n",
    "                 'to_do' : player.get_to_do_list(),\n",
    "                 'recurring_tasks' : player.get_recurring_tasks()\n",
    "                }\n",
    "    \n",
    "    return flask.render_template(\"index.html\", **variables)\n",
    "\n",
    "app.run()"
   ]
  },
  {
   "cell_type": "code",
   "execution_count": null,
   "metadata": {
    "scrolled": true
   },
   "outputs": [],
   "source": []
  },
  {
   "cell_type": "code",
   "execution_count": 46,
   "metadata": {},
   "outputs": [],
   "source": [
    "to_do_list = player.sheets['to_do'].col_values(1) \n",
    "to_do_done = player.sheets['to_do'].col_values(2) "
   ]
  },
  {
   "cell_type": "code",
   "execution_count": 55,
   "metadata": {},
   "outputs": [
    {
     "ename": "TypeError",
     "evalue": "Worksheet.col_values() missing 1 required positional argument: 'col'",
     "output_type": "error",
     "traceback": [
      "\u001b[1;31m---------------------------------------------------------------------------\u001b[0m",
      "\u001b[1;31mTypeError\u001b[0m                                 Traceback (most recent call last)",
      "Cell \u001b[1;32mIn [55], line 1\u001b[0m\n\u001b[1;32m----> 1\u001b[0m \u001b[43mplayer\u001b[49m\u001b[38;5;241;43m.\u001b[39;49m\u001b[43msheets\u001b[49m\u001b[43m[\u001b[49m\u001b[38;5;124;43m'\u001b[39;49m\u001b[38;5;124;43mrecurring_tasks\u001b[39;49m\u001b[38;5;124;43m'\u001b[39;49m\u001b[43m]\u001b[49m\u001b[38;5;241;43m.\u001b[39;49m\u001b[43mcol_values\u001b[49m\u001b[43m(\u001b[49m\u001b[43m)\u001b[49m\n",
      "\u001b[1;31mTypeError\u001b[0m: Worksheet.col_values() missing 1 required positional argument: 'col'"
     ]
    }
   ],
   "source": []
  },
  {
   "cell_type": "code",
   "execution_count": 51,
   "metadata": {},
   "outputs": [
    {
     "data": {
      "text/plain": [
       "dict_keys(['Status', 'logs', 'rules', 'to_do', 'recurring_tasks'])"
      ]
     },
     "execution_count": 51,
     "metadata": {},
     "output_type": "execute_result"
    }
   ],
   "source": [
    "player.sheets.keys()"
   ]
  },
  {
   "cell_type": "code",
   "execution_count": 36,
   "metadata": {},
   "outputs": [
    {
     "name": "stdout",
     "output_type": "stream",
     "text": [
      "357 ms ± 22.5 ms per loop (mean ± std. dev. of 7 runs, 1 loop each)\n"
     ]
    }
   ],
   "source": [
    "%%timeit\n",
    "lis = [i for i in li if f(i)]"
   ]
  },
  {
   "cell_type": "code",
   "execution_count": null,
   "metadata": {},
   "outputs": [],
   "source": []
  },
  {
   "cell_type": "code",
   "execution_count": null,
   "metadata": {},
   "outputs": [],
   "source": []
  }
 ],
 "metadata": {
  "kernelspec": {
   "display_name": "Python 3 (ipykernel)",
   "language": "python",
   "name": "python3"
  },
  "language_info": {
   "codemirror_mode": {
    "name": "ipython",
    "version": 3
   },
   "file_extension": ".py",
   "mimetype": "text/x-python",
   "name": "python",
   "nbconvert_exporter": "python",
   "pygments_lexer": "ipython3",
   "version": "3.10.8"
  }
 },
 "nbformat": 4,
 "nbformat_minor": 2
}
